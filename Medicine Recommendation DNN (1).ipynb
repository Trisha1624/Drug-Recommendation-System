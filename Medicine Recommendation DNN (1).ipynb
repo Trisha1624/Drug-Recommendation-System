{
 "cells": [
  {
   "cell_type": "code",
   "execution_count": 12,
   "id": "fa9cec59-970d-4f6e-96d0-965fd544dcc2",
   "metadata": {},
   "outputs": [
    {
     "name": "stdout",
     "output_type": "stream",
     "text": [
      "Enter your sentences one by one. Press Enter on an empty line to stop.\n"
     ]
    },
    {
     "name": "stdin",
     "output_type": "stream",
     "text": [
      "Enter a sentence:  \"This is the third med I&#039;ve tried for anxiety and mild depression. Been on it for a week and I hate it so much. I am so dizzy, I have major diarrhea and feel worse than I started. Contacting my doc in the am and changing asap.\"\n",
      "Enter a sentence:  \n"
     ]
    },
    {
     "name": "stdout",
     "output_type": "stream",
     "text": [
      "1/1 [==============================] - 0s 67ms/step\n",
      "text: \"This is the third med I&#039;ve tried for anxiety and mild depression. Been on it for a week and I hate it so much. I am so dizzy, I have major diarrhea and feel worse than I started. Contacting my doc in the am and changing asap.\"\n",
      "Condition: Depression\n",
      "Top 3 Suggested Drugs:\n",
      "Sertraline\n",
      "Zoloft\n",
      "Viibryd\n",
      "\n"
     ]
    }
   ],
   "source": [
    "## Function for Extracting Top drugs\n",
    "import joblib\n",
    "import pandas as pd\n",
    "from tensorflow.keras.models import load_model\n",
    "import tensorflow as tf\n",
    "from sklearn.feature_extraction.text import TfidfVectorizer\n",
    "import numpy as np\n",
    "\n",
    "\n",
    "# Load the TF-IDF vectorizer\n",
    "tfidf_vectorizer2 = joblib.load('tfidf_vectorizer2.pkl')\n",
    "\n",
    "# Load the DNN model\n",
    "condition_predictor = load_model('condition_predictor_dnn.h5')\n",
    "\n",
    "# Load df_top for top drugs\n",
    "df_top = joblib.load('df_top.pkl')\n",
    "\n",
    "def top_drugs_extractor(condition):\n",
    "    drug_lst = df_top[df_top['condition'] == condition]['drugName'].head(3).tolist()\n",
    "    return drug_lst\n",
    "\n",
    "def predict_text(lst_text):\n",
    "    df_test = pd.DataFrame(lst_text, columns=['test_sent'])\n",
    "    df_test[\"test_sent\"] = df_test[\"test_sent\"].apply(review_to_words)\n",
    "    tfidf_bigram = tfidf_vectorizer2.transform(lst_text)\n",
    "    prediction = condition_predictor.predict(tfidf_bigram)\n",
    "    df_test['prediction'] = prediction\n",
    "    return df_test\n",
    "\n",
    "# Function to get input sentences from the user\n",
    "def get_sentences():\n",
    "    sentences = []\n",
    "    print(\"Enter your sentences one by one. Press Enter on an empty line to stop.\")\n",
    "\n",
    "    while True:\n",
    "        sentence = input(\"Enter a sentence: \")\n",
    "        if sentence.strip() == \"\":\n",
    "            break\n",
    "        sentences.append(sentence)\n",
    "\n",
    "    return sentences\n",
    "\n",
    "# Get sentences from the user\n",
    "sentences = get_sentences()\n",
    "\n",
    "# Transform the sentences using the loaded TF-IDF vectorizer\n",
    "tfidf_trigram = tfidf_vectorizer2.transform(sentences)\n",
    "\n",
    "# Convert the SciPy sparse matrix to a TensorFlow SparseTensor\n",
    "tfidf_sparse_tensor = tf.sparse.SparseTensor(\n",
    "    indices=np.array(tfidf_trigram.nonzero()).T,\n",
    "    values=tfidf_trigram.data,\n",
    "    dense_shape=tfidf_trigram.shape\n",
    ")\n",
    "\n",
    "# Reorder the sparse tensor\n",
    "tfidf_sparse_tensor_ordered = tf.sparse.reorder(tfidf_sparse_tensor)\n",
    "\n",
    "# Convert the sparse tensor to a dense format if necessary\n",
    "tfidf_dense = tf.sparse.to_dense(tfidf_sparse_tensor_ordered)\n",
    "\n",
    "# Predict the conditions\n",
    "predictions = condition_predictor.predict(tfidf_dense)\n",
    "\n",
    "# Assuming the model's output is a one-hot encoded array, get the predicted class index\n",
    "predicted_indices = predictions.argmax(axis=1)\n",
    "\n",
    "# Define the mapping of class indices to condition names\n",
    "index_to_condition = {0: \"High Blood Pressure\", 1: \"Depression\", 2: \"Diabetes, Type 2\", 3: \"Birth Control\"}\n",
    "\n",
    "# Convert predicted indices to condition names\n",
    "predicted_labels = [index_to_condition[index] for index in predicted_indices]\n",
    "\n",
    "# Loop through predictions and print the top 3 suggested drugs for each condition\n",
    "for text, label in zip(sentences, predicted_labels):\n",
    "    top_drugs = top_drugs_extractor(label)\n",
    "    print(f\"text: {text}\\nCondition: {label}\")\n",
    "    print(\"Top 3 Suggested Drugs:\")\n",
    "    for drug in top_drugs:\n",
    "        print(drug)\n",
    "    print()"
   ]
  },
  {
   "cell_type": "code",
   "execution_count": null,
   "id": "7dfad12d-445a-4d51-8f3e-03debe7ba051",
   "metadata": {},
   "outputs": [],
   "source": []
  }
 ],
 "metadata": {
  "kernelspec": {
   "display_name": "Python 3 (ipykernel)",
   "language": "python",
   "name": "python3"
  },
  "language_info": {
   "codemirror_mode": {
    "name": "ipython",
    "version": 3
   },
   "file_extension": ".py",
   "mimetype": "text/x-python",
   "name": "python",
   "nbconvert_exporter": "python",
   "pygments_lexer": "ipython3",
   "version": "3.9.18"
  }
 },
 "nbformat": 4,
 "nbformat_minor": 5
}
